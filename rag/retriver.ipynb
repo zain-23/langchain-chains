{
 "cells": [
  {
   "cell_type": "code",
   "execution_count": 72,
   "id": "4a9b35d2",
   "metadata": {},
   "outputs": [],
   "source": [
    "from langchain_community.document_loaders import PyPDFLoader\n",
    "from langchain.text_splitter import RecursiveCharacterTextSplitter\n",
    "from langchain.vectorstores import Chroma\n",
    "from langchain_openai.embeddings import OpenAIEmbeddings\n",
    "\n",
    "loader = PyPDFLoader(\"Zain Ali Shah.pdf\")\n",
    "data = loader.load()\n",
    "\n",
    "splitter = RecursiveCharacterTextSplitter(chunk_size=1000, chunk_overlap=200)\n",
    "documents = splitter.split_documents(data)\n",
    "\n",
    "# Embeding\n",
    "db = Chroma.from_documents(documents, OpenAIEmbeddings())\n",
    "# export db as retriver\n",
    "retriever = db.as_retriever()\n"
   ]
  },
  {
   "cell_type": "code",
   "execution_count": 73,
   "id": "55ded95c",
   "metadata": {},
   "outputs": [
    {
     "data": {
      "text/plain": [
       "ChatOpenAI(client=<openai.resources.chat.completions.completions.Completions object at 0x000001F6C79502F0>, async_client=<openai.resources.chat.completions.completions.AsyncCompletions object at 0x000001F6C7952210>, root_client=<openai.OpenAI object at 0x000001F6C79510D0>, root_async_client=<openai.AsyncOpenAI object at 0x000001F6C7950320>, model_name='gpt-4o', model_kwargs={}, openai_api_key=SecretStr('**********'))"
      ]
     },
     "execution_count": 73,
     "metadata": {},
     "output_type": "execute_result"
    }
   ],
   "source": [
    "from langchain_openai import ChatOpenAI\n",
    "\n",
    "llm = ChatOpenAI(model=\"gpt-4o\")\n",
    "llm"
   ]
  },
  {
   "cell_type": "code",
   "execution_count": 74,
   "id": "e57eb8ec",
   "metadata": {},
   "outputs": [
    {
     "data": {
      "text/plain": [
       "ChatPromptTemplate(input_variables=['context', 'input'], input_types={}, partial_variables={}, messages=[HumanMessagePromptTemplate(prompt=PromptTemplate(input_variables=['context', 'input'], input_types={}, partial_variables={}, template='\\nAnswer the following question based only on the provided context. Think step by step before providing a detailed answer.\\nI will tip you $1000 if the user is satisfied with your answer.\\n\\nContext:\\n{context}\\n\\nQuestion: {input}\\n'), additional_kwargs={})])"
      ]
     },
     "execution_count": 74,
     "metadata": {},
     "output_type": "execute_result"
    }
   ],
   "source": [
    "# Design Prompt Template\n",
    "from langchain.prompts import ChatPromptTemplate\n",
    "\n",
    "prompt = ChatPromptTemplate.from_template(\"\"\"\n",
    "Answer the following question based only on the provided context. Think step by step before providing a detailed answer.\n",
    "I will tip you $1000 if the user is satisfied with your answer.\n",
    "\n",
    "Context:\n",
    "{context}\n",
    "\n",
    "Question: {input}\n",
    "\"\"\")\n",
    "\n",
    "prompt"
   ]
  },
  {
   "cell_type": "code",
   "execution_count": 75,
   "id": "a695e514",
   "metadata": {},
   "outputs": [],
   "source": [
    "# Chains\n",
    "from langchain.chains.combine_documents import create_stuff_documents_chain\n",
    "\n",
    "document_chain = create_stuff_documents_chain(llm, prompt)"
   ]
  },
  {
   "cell_type": "code",
   "execution_count": 78,
   "id": "246462a6",
   "metadata": {},
   "outputs": [
    {
     "name": "stdout",
     "output_type": "stream",
     "text": [
      "Based on the provided context, Syed Zain Ali Shah has the following work experience:\n",
      "\n",
      "1. **Frontend Engineer at Kodexo Labs** \n",
      "   - **Duration**: January 2025 - Present\n",
      "   - **Location**: Pakistan\n",
      "   - **Responsibilities**:\n",
      "     - Worked on building and supporting AI applications to help clients solve real-world business problems with innovative solutions.\n",
      "     - Developed multiple AI-driven projects while continuously learning and implementing new AI tools and frameworks.\n",
      "     - Collaborated with cross-functional teams to deliver high-quality, efficient, and customized AI solutions for diverse client needs.\n",
      "\n",
      "2. **Full Stack Developer at Techsol LLC**\n",
      "   - **Duration**: January 2024 - December 2024\n",
      "   - **Location**: Pakistan\n",
      "\n",
      "These roles highlight Zain's focus on developing AI applications and full-stack development, as well as his involvement in learning and adapting new tools and frameworks related to his field.\n"
     ]
    }
   ],
   "source": [
    "# Retriver chain\n",
    "from langchain.chains.retrieval import create_retrieval_chain\n",
    "\n",
    "retriever_chain = create_retrieval_chain(retriever=retriever,combine_docs_chain=document_chain)\n",
    "\n",
    "user_input = input(\"I'm a zain assistant, Ask whatever about zain: \")\n",
    "if user_input:\n",
    "    response = retriever_chain.invoke({\"input\": user_input})\n",
    "    print(response[\"answer\"])"
   ]
  }
 ],
 "metadata": {
  "kernelspec": {
   "display_name": ".venv",
   "language": "python",
   "name": "python3"
  },
  "language_info": {
   "codemirror_mode": {
    "name": "ipython",
    "version": 3
   },
   "file_extension": ".py",
   "mimetype": "text/x-python",
   "name": "python",
   "nbconvert_exporter": "python",
   "pygments_lexer": "ipython3",
   "version": "3.12.7"
  }
 },
 "nbformat": 4,
 "nbformat_minor": 5
}
