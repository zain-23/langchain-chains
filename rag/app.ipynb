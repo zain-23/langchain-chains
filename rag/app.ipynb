{
 "cells": [
  {
   "cell_type": "code",
   "execution_count": 6,
   "id": "52bbcd0b",
   "metadata": {},
   "outputs": [
    {
     "data": {
      "text/plain": [
       "\"Syed Zain Ali Shah \\nFull Stack Developer \\nWith a passion for web and app development, I am continuously enhancing my skills in cloud computing (AWS). I believe that successful\\ndevelopment goes beyond writing code, it's just as important to thoroughly test the code to ensure that web applications are both\\nfunctional and scalable. \\nzaynshah397@gmail.com \\n03181673383 \\nKarachi, Pakistan \\n31 January, 2003 \\nlinkedin.com/in/zain-ali-shah \\ngithub.com/zain-23 \\nWORK EXPERIENCE \\nFrontend Engineer \\nKodexo Labs \\n01/2025 - Present\\n, \\n \\nPakistan \\nWorked on building and supporting AI applications, helping\\nclients solve real-world business problems with innovative\\nsolutions. \\nDeveloped multiple AI-driven projects while continuously\\nlearning and implementing new AI tools and frameworks. \\nCollaborated with cross-functional teams to deliver high-\\nquality, eﬃcient, and customized AI solutions for diverse\\nclient needs. \\nFull Stack Developer \\nTechsol LLC \\n01/2024 - 12/2024\\n, \\n \\nPakistan\""
      ]
     },
     "execution_count": 6,
     "metadata": {},
     "output_type": "execute_result"
    }
   ],
   "source": [
    "from langchain_community.document_loaders import PyPDFLoader\n",
    "from langchain.text_splitter import RecursiveCharacterTextSplitter\n",
    "from langchain.vectorstores import Chroma\n",
    "from langchain_openai.embeddings import OpenAIEmbeddings\n",
    "\n",
    "loader = PyPDFLoader(\"Zain Ali Shah.pdf\")\n",
    "data = loader.load()\n",
    "\n",
    "splitter = RecursiveCharacterTextSplitter(chunk_size=1000, chunk_overlap=200)\n",
    "documents = splitter.split_documents(data)\n",
    "\n",
    "# Embeding\n",
    "db = Chroma.from_documents(documents, OpenAIEmbeddings())\n",
    "\n",
    "query = \"Where is zain currently working now\"\n",
    "\n",
    "result = db.similarity_search(query=query)\n",
    "result[0].page_content"
   ]
  }
 ],
 "metadata": {
  "kernelspec": {
   "display_name": ".venv",
   "language": "python",
   "name": "python3"
  },
  "language_info": {
   "codemirror_mode": {
    "name": "ipython",
    "version": 3
   },
   "file_extension": ".py",
   "mimetype": "text/x-python",
   "name": "python",
   "nbconvert_exporter": "python",
   "pygments_lexer": "ipython3",
   "version": "3.12.7"
  }
 },
 "nbformat": 4,
 "nbformat_minor": 5
}
